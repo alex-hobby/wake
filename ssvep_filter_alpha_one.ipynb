{
  "nbformat": 4,
  "nbformat_minor": 0,
  "metadata": {
    "colab": {
      "name": "ssvep_filter_alpha_one.ipynb",
      "provenance": [],
      "authorship_tag": "ABX9TyN93rdpWnNpdjimUTbzihDE",
      "include_colab_link": true
    },
    "kernelspec": {
      "name": "python3",
      "display_name": "Python 3"
    },
    "language_info": {
      "name": "python"
    }
  },
  "cells": [
    {
      "cell_type": "markdown",
      "metadata": {
        "id": "view-in-github",
        "colab_type": "text"
      },
      "source": [
        "<a href=\"https://colab.research.google.com/github/alex-hobby/wake/blob/main/ssvep_filter_alpha_one.ipynb\" target=\"_parent\"><img src=\"https://colab.research.google.com/assets/colab-badge.svg\" alt=\"Open In Colab\"/></a>"
      ]
    },
    {
      "cell_type": "code",
      "metadata": {
        "colab": {
          "base_uri": "https://localhost:8080/"
        },
        "id": "Vx29UNIVBVzg",
        "outputId": "c0d61186-fbf2-440a-c794-3c6427680876"
      },
      "source": [
        "! pip install pyxdf\n",
        "! pip install gdown"
      ],
      "execution_count": null,
      "outputs": [
        {
          "output_type": "stream",
          "name": "stdout",
          "text": [
            "Collecting pyxdf\n",
            "  Downloading pyxdf-1.16.3-py2.py3-none-any.whl (15 kB)\n",
            "Requirement already satisfied: numpy in /usr/local/lib/python3.7/dist-packages (from pyxdf) (1.19.5)\n",
            "Installing collected packages: pyxdf\n",
            "Successfully installed pyxdf-1.16.3\n",
            "Requirement already satisfied: gdown in /usr/local/lib/python3.7/dist-packages (3.6.4)\n",
            "Requirement already satisfied: requests in /usr/local/lib/python3.7/dist-packages (from gdown) (2.23.0)\n",
            "Requirement already satisfied: six in /usr/local/lib/python3.7/dist-packages (from gdown) (1.15.0)\n",
            "Requirement already satisfied: tqdm in /usr/local/lib/python3.7/dist-packages (from gdown) (4.62.3)\n",
            "Requirement already satisfied: chardet<4,>=3.0.2 in /usr/local/lib/python3.7/dist-packages (from requests->gdown) (3.0.4)\n",
            "Requirement already satisfied: idna<3,>=2.5 in /usr/local/lib/python3.7/dist-packages (from requests->gdown) (2.10)\n",
            "Requirement already satisfied: certifi>=2017.4.17 in /usr/local/lib/python3.7/dist-packages (from requests->gdown) (2021.5.30)\n",
            "Requirement already satisfied: urllib3!=1.25.0,!=1.25.1,<1.26,>=1.21.1 in /usr/local/lib/python3.7/dist-packages (from requests->gdown) (1.24.3)\n"
          ]
        }
      ]
    },
    {
      "cell_type": "code",
      "metadata": {
        "id": "m7nMrxT3B_RM"
      },
      "source": [
        "import urllib.request\n",
        "import numpy as np\n",
        "import scipy\n",
        "import os\n",
        "import itertools\n",
        "from scipy.io import wavfile\n",
        "from joblib import Parallel, delayed\n",
        "import matplotlib.pyplot as plt\n",
        "import pyxdf\n",
        "from scipy.interpolate import interp1d\n",
        "from scipy.signal import butter, sosfilt, sosfreqz\n",
        "from scipy.fft import fft, fftfreq\n",
        "from numpy import genfromtxt\n",
        "rng = np.random.default_rng(42)\n",
        "plt.style.use('seaborn')"
      ],
      "execution_count": null,
      "outputs": []
    },
    {
      "cell_type": "code",
      "metadata": {
        "colab": {
          "base_uri": "https://localhost:8080/",
          "height": 130
        },
        "id": "5n_m6KbyCOys",
        "outputId": "f3d816e2-d321-4260-c49c-a954dc4a0267"
      },
      "source": [
        "data = genfromtxt('sample_data/alpha_wave.txt', dtype=int, delimiter=','\n",
        "\n",
        "buffer = data[0:500,:]\n",
        "fft_win = 500\n",
        "SAMPLE_RATE = 250\n",
        "xf = fftfreq(fft_win, 1 / SAMPLE_RATE)\n",
        "fft_power = np.power(np.abs(fft(buffer, axis=0)), 2) \n",
        "buffer = data[0 + 500 * 0.5 : 500 + 500 * 0.5]"
      ],
      "execution_count": null,
      "outputs": [
        {
          "output_type": "error",
          "ename": "SyntaxError",
          "evalue": "ignored",
          "traceback": [
            "\u001b[0;36m  File \u001b[0;32m\"<ipython-input-7-f07acc866ddb>\"\u001b[0;36m, line \u001b[0;32m3\u001b[0m\n\u001b[0;31m    buffer = data[0:500,:]\u001b[0m\n\u001b[0m         ^\u001b[0m\n\u001b[0;31mSyntaxError\u001b[0m\u001b[0;31m:\u001b[0m invalid syntax\n"
          ]
        }
      ]
    }
  ]
}